{
 "cells": [
  {
   "cell_type": "markdown",
   "id": "08f1c51f",
   "metadata": {
    "pycharm": {
     "name": "#%% md\n"
    }
   },
   "source": [
    "# Домашнє завдання до теми \"Python Basics\"\n",
    "В цьому ДЗ важливою умовою виконання завдань є те, що ми не імпортуємо жодних бібліотек, а робимо все на чистому Python, використовуючи лише базовий функціонал. Це необхідно аби відпрацювати роботу з базовими типами даних. А використовувати бібліотеки ми ще навчимось далі :)"
   ]
  },
  {
   "cell_type": "markdown",
   "id": "676db6ee",
   "metadata": {
    "ExecuteTime": {
     "end_time": "2022-10-15T22:38:58.278123Z",
     "start_time": "2022-10-15T22:38:58.274895Z"
    },
    "pycharm": {
     "name": "#%% md\n"
    }
   },
   "source": [
    "# Робота з рядками"
   ]
  },
  {
   "cell_type": "markdown",
   "id": "60423850",
   "metadata": {
    "pycharm": {
     "name": "#%% md\n"
    }
   },
   "source": [
    "1.Запишіть у змінну `name` ваше імʼя."
   ]
  },
  {
   "cell_type": "code",
   "execution_count": 1,
   "id": "473006f4",
   "metadata": {
    "ExecuteTime": {
     "end_time": "2023-02-05T11:06:35.815534Z",
     "start_time": "2023-02-05T11:06:35.797579Z"
    },
    "pycharm": {
     "name": "#%%\n"
    }
   },
   "outputs": [],
   "source": [
    "name = 'Dmytro'"
   ]
  },
  {
   "cell_type": "markdown",
   "id": "4b3acd9d",
   "metadata": {
    "pycharm": {
     "name": "#%% md\n"
    }
   },
   "source": [
    "2.Запишіть у змінну `surname` ваше прізвище."
   ]
  },
  {
   "cell_type": "code",
   "execution_count": 2,
   "id": "c5defe1b",
   "metadata": {
    "ExecuteTime": {
     "end_time": "2023-02-05T11:06:38.131381Z",
     "start_time": "2023-02-05T11:06:38.127389Z"
    },
    "pycharm": {
     "name": "#%%\n"
    }
   },
   "outputs": [],
   "source": [
    "surname = 'Horokhov'"
   ]
  },
  {
   "cell_type": "markdown",
   "id": "ab162f8e",
   "metadata": {
    "pycharm": {
     "name": "#%% md\n"
    }
   },
   "source": [
    "3.Сконкатенуйте імʼя та прізвище в одну фразу через пробіл. Запишіть результат у нову змінну `name_surname` та виведіть результат:"
   ]
  },
  {
   "cell_type": "code",
   "execution_count": 8,
   "id": "522d3253",
   "metadata": {
    "ExecuteTime": {
     "end_time": "2023-02-05T11:10:22.160023Z",
     "start_time": "2023-02-05T11:10:22.151046Z"
    },
    "pycharm": {
     "name": "#%%\n"
    }
   },
   "outputs": [
    {
     "data": {
      "text/plain": [
       "'Dmytro Horokhov'"
      ]
     },
     "execution_count": 8,
     "metadata": {},
     "output_type": "execute_result"
    }
   ],
   "source": [
    "name_surname = name + ' ' + surname\n",
    "name_surname"
   ]
  },
  {
   "cell_type": "markdown",
   "id": "77e679dd",
   "metadata": {
    "pycharm": {
     "name": "#%% md\n"
    }
   },
   "source": [
    "Очікувана відповідь (тільки з вашими даними): 'Hanna Pylieva' "
   ]
  },
  {
   "cell_type": "markdown",
   "id": "e68adcf7",
   "metadata": {
    "pycharm": {
     "name": "#%% md\n"
    }
   },
   "source": [
    "4.Зробіть усі літери змінної `name_surname` заглавними використовуючи вбудовану функцію Python для рядків:"
   ]
  },
  {
   "cell_type": "code",
   "execution_count": 6,
   "id": "1047cda3",
   "metadata": {
    "ExecuteTime": {
     "end_time": "2023-02-05T11:09:55.004125Z",
     "start_time": "2023-02-05T11:09:54.986180Z"
    },
    "pycharm": {
     "name": "#%%\n"
    }
   },
   "outputs": [
    {
     "data": {
      "text/plain": [
       "'DMYTRO HOROKHOV'"
      ]
     },
     "execution_count": 6,
     "metadata": {},
     "output_type": "execute_result"
    }
   ],
   "source": [
    "name_surname.upper()"
   ]
  },
  {
   "cell_type": "markdown",
   "id": "20a20420",
   "metadata": {
    "pycharm": {
     "name": "#%% md\n"
    }
   },
   "source": [
    "Очікувана відповідь (тільки з вашими даними): 'HANNA PYLIEVA'"
   ]
  },
  {
   "cell_type": "markdown",
   "id": "e7e1c7ae",
   "metadata": {
    "pycharm": {
     "name": "#%% md\n"
    }
   },
   "source": [
    "5.Виведіть третю літеру вашого `name_surname`. Тут уважно, треба саме третя літера. Згадайте, з якого значення починається індексування значень в Python."
   ]
  },
  {
   "cell_type": "code",
   "execution_count": 12,
   "id": "191baf85",
   "metadata": {
    "ExecuteTime": {
     "end_time": "2023-02-05T11:11:55.348041Z",
     "start_time": "2023-02-05T11:11:55.337065Z"
    },
    "pycharm": {
     "name": "#%%\n"
    }
   },
   "outputs": [
    {
     "data": {
      "text/plain": [
       "'y'"
      ]
     },
     "execution_count": 12,
     "metadata": {},
     "output_type": "execute_result"
    }
   ],
   "source": [
    "name_surname[2]"
   ]
  },
  {
   "cell_type": "markdown",
   "id": "181c489d",
   "metadata": {
    "pycharm": {
     "name": "#%% md\n"
    }
   },
   "source": [
    "Очікувана відповідь (тільки з вашими даними): 'n'"
   ]
  },
  {
   "cell_type": "markdown",
   "id": "1f3cc1a7",
   "metadata": {
    "pycharm": {
     "name": "#%% md\n"
    }
   },
   "source": [
    "6.Виведіть першу та останню літеру вашого прізвища."
   ]
  },
  {
   "cell_type": "code",
   "execution_count": 15,
   "id": "1a4ffd8b",
   "metadata": {
    "ExecuteTime": {
     "end_time": "2023-02-05T11:14:56.231312Z",
     "start_time": "2023-02-05T11:14:56.223329Z"
    },
    "pycharm": {
     "name": "#%%\n"
    }
   },
   "outputs": [
    {
     "data": {
      "text/plain": [
       "('D', 'v')"
      ]
     },
     "execution_count": 15,
     "metadata": {},
     "output_type": "execute_result"
    }
   ],
   "source": [
    "name_surname[0], name_surname[-1]"
   ]
  },
  {
   "cell_type": "markdown",
   "id": "df1b4a52",
   "metadata": {
    "pycharm": {
     "name": "#%% md\n"
    }
   },
   "source": [
    "Очікувана відповідь (тільки з вашими даними): ('P', 'a')"
   ]
  },
  {
   "cell_type": "markdown",
   "id": "0ad4f21f",
   "metadata": {
    "pycharm": {
     "name": "#%% md\n"
    }
   },
   "source": [
    "7.Виведіть довжину вашого прізвища."
   ]
  },
  {
   "cell_type": "code",
   "execution_count": 16,
   "id": "8aadf013",
   "metadata": {
    "ExecuteTime": {
     "end_time": "2023-02-05T11:15:43.886190Z",
     "start_time": "2023-02-05T11:15:43.879208Z"
    },
    "pycharm": {
     "name": "#%%\n"
    }
   },
   "outputs": [
    {
     "data": {
      "text/plain": [
       "8"
      ]
     },
     "execution_count": 16,
     "metadata": {},
     "output_type": "execute_result"
    }
   ],
   "source": [
    "len(surname)"
   ]
  },
  {
   "cell_type": "markdown",
   "id": "ec1a8d38",
   "metadata": {
    "pycharm": {
     "name": "#%% md\n"
    }
   },
   "source": [
    "Очікувана відповідь (тільки з вашими даними): 7"
   ]
  },
  {
   "cell_type": "markdown",
   "id": "fc4ee632",
   "metadata": {
    "pycharm": {
     "name": "#%% md\n"
    }
   },
   "source": [
    "8.Виведіть кількість літер `a` у столиці Мадагаскару `Antananarivo`. Важливо врахувати всі літери, як великі, так і маленькі."
   ]
  },
  {
   "cell_type": "code",
   "execution_count": 24,
   "id": "4c83c237",
   "metadata": {
    "ExecuteTime": {
     "end_time": "2023-02-05T11:31:52.567797Z",
     "start_time": "2023-02-05T11:31:52.560815Z"
    },
    "pycharm": {
     "name": "#%%\n"
    }
   },
   "outputs": [
    {
     "name": "stdout",
     "output_type": "stream",
     "text": [
      "4\n"
     ]
    }
   ],
   "source": [
    "Capital = 'Antananarivo'\n",
    "print(Capital.count('A') + Capital.count('a'))"
   ]
  },
  {
   "cell_type": "markdown",
   "id": "3b822954",
   "metadata": {
    "pycharm": {
     "name": "#%% md\n"
    }
   },
   "source": [
    "Очікувана відповідь: 4"
   ]
  },
  {
   "cell_type": "markdown",
   "id": "0f3e7772",
   "metadata": {
    "pycharm": {
     "name": "#%% md\n"
    }
   },
   "source": [
    "# Робота з числами та операторами"
   ]
  },
  {
   "cell_type": "markdown",
   "id": "0be48f79",
   "metadata": {
    "pycharm": {
     "name": "#%% md\n"
    }
   },
   "source": [
    "9.Створіть змінні a, b, c та d цілочисельного типу, задайде їм значення відповідно 1, 2, 3, 4, та обчисліть з допомогою Python наступний вираз:  $$ \\frac{(a+b) * c}{d} $$"
   ]
  },
  {
   "cell_type": "code",
   "execution_count": 25,
   "id": "9d7e1690",
   "metadata": {
    "ExecuteTime": {
     "end_time": "2023-02-05T11:33:06.960010Z",
     "start_time": "2023-02-05T11:33:06.951032Z"
    },
    "pycharm": {
     "name": "#%%\n"
    }
   },
   "outputs": [
    {
     "data": {
      "text/plain": [
       "2.25"
      ]
     },
     "execution_count": 25,
     "metadata": {},
     "output_type": "execute_result"
    }
   ],
   "source": [
    "a = 1\n",
    "b = 2\n",
    "c = 3\n",
    "d = 4\n",
    "(a + b) * c / d"
   ]
  },
  {
   "cell_type": "markdown",
   "id": "b4183f4f",
   "metadata": {
    "pycharm": {
     "name": "#%% md\n"
    }
   },
   "source": [
    "Очікувана відповідь: 2.25"
   ]
  },
  {
   "cell_type": "markdown",
   "id": "23e8d8f0",
   "metadata": {
    "pycharm": {
     "name": "#%% md\n"
    }
   },
   "source": [
    "10.На змінних, створених в попердньому завданні, обчисліть наступний вираз з допомогою Python: $$ (a^b + c^d)^2 $$"
   ]
  },
  {
   "cell_type": "code",
   "execution_count": 26,
   "id": "2b3cf9ae",
   "metadata": {
    "ExecuteTime": {
     "end_time": "2023-02-05T11:33:51.367953Z",
     "start_time": "2023-02-05T11:33:51.359974Z"
    },
    "pycharm": {
     "name": "#%%\n"
    }
   },
   "outputs": [
    {
     "data": {
      "text/plain": [
       "6724"
      ]
     },
     "execution_count": 26,
     "metadata": {},
     "output_type": "execute_result"
    }
   ],
   "source": [
    "(a**b + c**d)**2"
   ]
  },
  {
   "cell_type": "markdown",
   "id": "2d5f632b",
   "metadata": {
    "pycharm": {
     "name": "#%% md\n"
    }
   },
   "source": [
    "Очікувана відповідь: 6724"
   ]
  },
  {
   "cell_type": "markdown",
   "id": "8365109c",
   "metadata": {
    "pycharm": {
     "name": "#%% md\n"
    }
   },
   "source": [
    "# Робота зі колекціями"
   ]
  },
  {
   "cell_type": "markdown",
   "id": "efd4a344",
   "metadata": {
    "pycharm": {
     "name": "#%% md\n"
    }
   },
   "source": [
    "У нас є наступний список:"
   ]
  },
  {
   "cell_type": "code",
   "execution_count": 108,
   "id": "33f9a114",
   "metadata": {
    "ExecuteTime": {
     "end_time": "2023-02-05T14:29:26.689066Z",
     "start_time": "2023-02-05T14:29:26.673604Z"
    },
    "pycharm": {
     "name": "#%%\n"
    }
   },
   "outputs": [],
   "source": [
    "l = [\n",
    "    78, 12, 14, 27, 47, 28, 51, 46, 94, 37, 42, 20, 52, 33, 11, 11, 51,\n",
    "    20, 81, 54, 86, 51, 38, 42, 49, 99, 76, 17,  9, 23, 97, 29, 29, 63,\n",
    "    40, 11, 31, 76, 15, 21, 29, 75, 35,  2, 10, 71, 17, 10, 13,  7, 44,\n",
    "    12, 19, 61, 13, 25, 62, 46, 10, 44, 75, 57, 20, 57,  3, 44, 16, 28,\n",
    "    79, 57, 62, 70, 95,  8, 47, 82, 80, 45, 36, 44, 79, 95, 73, 42, 29,\n",
    "    83, 80, 66, 56,  8, 73,  5, 99, 65, 65, 98, 17, 36, 16, 60\n",
    "]"
   ]
  },
  {
   "cell_type": "markdown",
   "id": "77d55ecf",
   "metadata": {
    "pycharm": {
     "name": "#%% md\n"
    }
   },
   "source": [
    "Будемо з ним працювати в наступних завданнях."
   ]
  },
  {
   "cell_type": "markdown",
   "id": "7a9d114b",
   "metadata": {
    "pycharm": {
     "name": "#%% md\n"
    }
   },
   "source": [
    "11.Виведіть 5 перших елементів списку"
   ]
  },
  {
   "cell_type": "code",
   "execution_count": 28,
   "id": "1a6e26e9",
   "metadata": {
    "ExecuteTime": {
     "end_time": "2023-02-05T11:34:32.746468Z",
     "start_time": "2023-02-05T11:34:32.739482Z"
    },
    "pycharm": {
     "name": "#%%\n"
    }
   },
   "outputs": [
    {
     "data": {
      "text/plain": [
       "[78, 12, 14, 27, 47]"
      ]
     },
     "execution_count": 28,
     "metadata": {},
     "output_type": "execute_result"
    }
   ],
   "source": [
    "l[:5]"
   ]
  },
  {
   "cell_type": "markdown",
   "id": "0c995ae4",
   "metadata": {
    "pycharm": {
     "name": "#%% md\n"
    }
   },
   "source": [
    "Очікувана відповідь: [78, 12, 14, 27, 47]"
   ]
  },
  {
   "cell_type": "markdown",
   "id": "58a98ef0",
   "metadata": {
    "pycharm": {
     "name": "#%% md\n"
    }
   },
   "source": [
    "12.Виведіть максимальний і мінімальний елемент у списку"
   ]
  },
  {
   "cell_type": "code",
   "execution_count": 42,
   "id": "008f459c",
   "metadata": {
    "ExecuteTime": {
     "end_time": "2023-02-05T11:42:30.251933Z",
     "start_time": "2023-02-05T11:42:30.241673Z"
    },
    "pycharm": {
     "name": "#%%\n"
    }
   },
   "outputs": [
    {
     "name": "stdout",
     "output_type": "stream",
     "text": [
      "Max element 99 \n",
      " Min element 2\n"
     ]
    }
   ],
   "source": [
    "print('Max element', max(l), '\\n', 'Min element', min(l))"
   ]
  },
  {
   "cell_type": "markdown",
   "id": "c19c1cf7",
   "metadata": {
    "pycharm": {
     "name": "#%% md\n"
    }
   },
   "source": [
    "Очікувана відповідь: \n",
    "\n",
    "```\n",
    "Max element  99\n",
    "Max element  2\n",
    "```"
   ]
  },
  {
   "cell_type": "markdown",
   "id": "eef1aae7",
   "metadata": {
    "pycharm": {
     "name": "#%% md\n"
    }
   },
   "source": [
    "13.Чи є в списку елементи, які повторюються? Перевірте це програмно і з допомогою інструкцій `if ... else` виведіть на екран відповідь \"Так, є елементи, які повторюються\", або \"Ні, всі елементи унікальні\".\n",
    "Важливо це зробити без використання імпортів будь-яких бібліотек, на чистому Python так би мовити."
   ]
  },
  {
   "cell_type": "code",
   "execution_count": 53,
   "id": "766170f3",
   "metadata": {
    "ExecuteTime": {
     "end_time": "2023-02-05T12:11:46.197433Z",
     "start_time": "2023-02-05T12:11:46.185297Z"
    },
    "pycharm": {
     "name": "#%%\n"
    }
   },
   "outputs": [
    {
     "name": "stdout",
     "output_type": "stream",
     "text": [
      "Так, є елементи, які повторюються\n"
     ]
    }
   ],
   "source": [
    "for i in range(len(l)):\n",
    "    if l.count(l[i]) > 1:\n",
    "        print(\"Так, є елементи, які повторюються\")\n",
    "        break\n",
    "    else:\n",
    "        continue\n",
    "    print(\"Ні, всі елементи унікальні\")"
   ]
  },
  {
   "cell_type": "markdown",
   "id": "cee3dda8",
   "metadata": {
    "pycharm": {
     "name": "#%% md\n"
    }
   },
   "source": [
    "14.Для кожного унікального елементу списку `l` знайдіть, скільки разів він повторюється та запишіть результат у змінну `n_repeats`. Виведіть `n_repeats` на екран."
   ]
  },
  {
   "cell_type": "code",
   "execution_count": 94,
   "id": "129111b7",
   "metadata": {
    "ExecuteTime": {
     "end_time": "2023-02-05T14:15:11.486799Z",
     "start_time": "2023-02-05T14:15:11.479818Z"
    },
    "pycharm": {
     "name": "#%%\n"
    }
   },
   "outputs": [
    {
     "name": "stdout",
     "output_type": "stream",
     "text": [
      "{2: 1, 3: 1, 5: 1, 7: 1, 8: 2, 9: 1, 10: 3, 11: 3, 12: 2, 13: 2, 14: 1, 15: 1, 16: 2, 17: 3, 19: 1, 20: 3, 21: 1, 23: 1, 25: 1, 27: 1, 28: 2, 29: 4, 31: 1, 33: 1, 35: 1, 36: 2, 37: 1, 38: 1, 40: 1, 42: 3, 44: 4, 45: 1, 46: 2, 47: 2, 49: 1, 51: 3, 52: 1, 54: 1, 56: 1, 57: 3, 60: 1, 61: 1, 62: 2, 63: 1, 65: 2, 66: 1, 70: 1, 71: 1, 73: 2, 75: 2, 76: 2, 78: 1, 79: 2, 80: 2, 81: 1, 82: 1, 83: 1, 86: 1, 94: 1, 95: 2, 97: 1, 98: 1, 99: 2}\n"
     ]
    }
   ],
   "source": [
    "n_repeats = {}\n",
    "for x in set(l):\n",
    "    n_repeats[x] = l.count(x)\n",
    "print(n_repeats)"
   ]
  },
  {
   "cell_type": "markdown",
   "id": "9858eefd",
   "metadata": {
    "pycharm": {
     "name": "#%% md\n"
    }
   },
   "source": [
    "Очікуваний результат (три крапки - для скорочення, у вас буде виведений повний набір унікальних елементів): \n",
    "```\n",
    "{2: 1,\n",
    " 3: 1,\n",
    " 5: 1,\n",
    "    ...\n",
    " 97: 1,\n",
    " 98: 1,\n",
    " 99: 2}\n",
    "```"
   ]
  },
  {
   "cell_type": "markdown",
   "id": "10c98ea7",
   "metadata": {
    "pycharm": {
     "name": "#%% md\n"
    }
   },
   "source": [
    "15.Знайдіть три найменші унікальні елементи в списку `l`."
   ]
  },
  {
   "cell_type": "code",
   "execution_count": 86,
   "id": "8cabdfc7",
   "metadata": {
    "ExecuteTime": {
     "end_time": "2023-02-05T14:06:52.689077Z",
     "start_time": "2023-02-05T14:06:52.681096Z"
    },
    "pycharm": {
     "name": "#%%\n"
    }
   },
   "outputs": [
    {
     "name": "stdout",
     "output_type": "stream",
     "text": [
      "[2, 3, 5]\n"
     ]
    }
   ],
   "source": [
    "new_list = []\n",
    "new_set = set(l)\n",
    "for i in range(3):\n",
    "    minimum = min(new_set)\n",
    "    new_list.append(minimum)\n",
    "    new_set.remove(minimum)\n",
    "print(new_list)"
   ]
  },
  {
   "cell_type": "markdown",
   "id": "672d2981",
   "metadata": {
    "pycharm": {
     "name": "#%% md\n"
    }
   },
   "source": [
    "Очікувана відповідь: [2, 3, 5]\n"
   ]
  },
  {
   "cell_type": "markdown",
   "id": "f7653e42",
   "metadata": {
    "pycharm": {
     "name": "#%% md\n"
    }
   },
   "source": [
    "16.Використовуючи `n_repeats` скажіть, скільки разів повторюється кожен з трьох найменших елементів в списку."
   ]
  },
  {
   "cell_type": "code",
   "execution_count": 99,
   "id": "05ec5353",
   "metadata": {
    "ExecuteTime": {
     "end_time": "2023-02-05T14:22:33.913887Z",
     "start_time": "2023-02-05T14:22:33.904923Z"
    },
    "pycharm": {
     "name": "#%%\n"
    }
   },
   "outputs": [
    {
     "data": {
      "text/plain": [
       "{2: 1, 3: 1, 5: 1}"
      ]
     },
     "execution_count": 99,
     "metadata": {},
     "output_type": "execute_result"
    }
   ],
   "source": [
    "d = {x: n_repeats[x] for x in new_list}\n",
    "d"
   ]
  },
  {
   "cell_type": "markdown",
   "id": "dfcfb47d",
   "metadata": {
    "pycharm": {
     "name": "#%% md\n"
    }
   },
   "source": [
    "Очікувана відповідь:  {2: 1, 3: 1, 5: 1}"
   ]
  },
  {
   "cell_type": "markdown",
   "id": "4e43e698",
   "metadata": {
    "pycharm": {
     "name": "#%% md\n"
    }
   },
   "source": [
    "17.Створіть новий список `l2`, який містить кожен 11-й елемент списку `l`. Виведіть `l2` на екран.  \n",
    "Памʼятаємо, щоб наприклад, перший 11-и1 елемент списку має індекс 10."
   ]
  },
  {
   "cell_type": "code",
   "execution_count": 116,
   "id": "5b4c4729",
   "metadata": {
    "ExecuteTime": {
     "end_time": "2023-02-05T14:32:06.578609Z",
     "start_time": "2023-02-05T14:32:06.568996Z"
    },
    "pycharm": {
     "name": "#%%\n"
    }
   },
   "outputs": [
    {
     "data": {
      "text/plain": [
       "[42, 51, 29, 2, 13, 44, 80, 66, 16]"
      ]
     },
     "execution_count": 116,
     "metadata": {},
     "output_type": "execute_result"
    }
   ],
   "source": [
    "l2 = [l[i] for i in range(10, len(l), 11)]\n",
    "l2"
   ]
  },
  {
   "cell_type": "markdown",
   "id": "0c734831",
   "metadata": {
    "ExecuteTime": {
     "end_time": "2023-01-20T20:10:37.303981Z",
     "start_time": "2023-01-20T20:10:37.275706Z"
    },
    "pycharm": {
     "name": "#%%\n"
    }
   },
   "source": [
    "Очікуваний результат: `[42, 51, 29, 2, 13, 44, 80, 66, 16]`"
   ]
  },
  {
   "cell_type": "markdown",
   "id": "fca24ff1",
   "metadata": {
    "pycharm": {
     "name": "#%% md\n"
    }
   },
   "source": [
    "18.Створіть новий список `l2_squared`, де кожен елемент списку `l2` є піднесеним до степіня 2. "
   ]
  },
  {
   "cell_type": "code",
   "execution_count": 117,
   "id": "26795c16",
   "metadata": {
    "ExecuteTime": {
     "end_time": "2023-02-05T14:33:17.686226Z",
     "start_time": "2023-02-05T14:33:17.673260Z"
    },
    "pycharm": {
     "name": "#%%\n"
    }
   },
   "outputs": [
    {
     "data": {
      "text/plain": [
       "[1764, 2601, 841, 4, 169, 1936, 6400, 4356, 256]"
      ]
     },
     "execution_count": 117,
     "metadata": {},
     "output_type": "execute_result"
    }
   ],
   "source": [
    "l2_squared = [x**2 for x in l2]\n",
    "l2_squared"
   ]
  },
  {
   "cell_type": "markdown",
   "id": "0dce0d8e",
   "metadata": {
    "pycharm": {
     "name": "#%% md\n"
    }
   },
   "source": [
    "Очікуваний результат: `[1764, 2601, 841, 4, 169, 1936, 6400, 4356, 256]`"
   ]
  },
  {
   "cell_type": "markdown",
   "id": "c267a553",
   "metadata": {
    "pycharm": {
     "name": "#%% md\n"
    }
   },
   "source": [
    "19.Знайдіть суму всіх елементів списку `l2` та виведіть її на екран."
   ]
  },
  {
   "cell_type": "code",
   "execution_count": 119,
   "id": "7f37b29f",
   "metadata": {
    "ExecuteTime": {
     "end_time": "2023-02-05T14:39:04.297528Z",
     "start_time": "2023-02-05T14:39:04.285558Z"
    },
    "pycharm": {
     "name": "#%%\n"
    }
   },
   "outputs": [
    {
     "data": {
      "text/plain": [
       "343"
      ]
     },
     "execution_count": 119,
     "metadata": {},
     "output_type": "execute_result"
    }
   ],
   "source": [
    "sum(l2)"
   ]
  },
  {
   "cell_type": "markdown",
   "id": "b12acfc2",
   "metadata": {
    "pycharm": {
     "name": "#%% md\n"
    }
   },
   "source": [
    "20.Знайдіть середнє значення елементів списку `l2`, збережіть результат у змінну `l2_mean` та виведіть новостворену змінну та ії тип на екран."
   ]
  },
  {
   "cell_type": "code",
   "execution_count": 120,
   "id": "51fbb32b",
   "metadata": {
    "ExecuteTime": {
     "end_time": "2023-02-05T14:42:33.529491Z",
     "start_time": "2023-02-05T14:42:33.518519Z"
    },
    "pycharm": {
     "name": "#%%\n"
    }
   },
   "outputs": [
    {
     "data": {
      "text/plain": [
       "38.111111111111114"
      ]
     },
     "execution_count": 120,
     "metadata": {},
     "output_type": "execute_result"
    }
   ],
   "source": [
    "l2_mean = sum(l2) / len(l2)\n",
    "l2_mean"
   ]
  },
  {
   "cell_type": "markdown",
   "id": "079359aa",
   "metadata": {
    "pycharm": {
     "name": "#%% md\n"
    }
   },
   "source": [
    "21.Створіть новий список `l2_gt_mean`, за наступним правилом: \"якщо цей елемент спиcку `l2` є більше за `l2_mean`, то запишемо 1, інакше 0. Виведіть новий список на екран."
   ]
  },
  {
   "cell_type": "code",
   "execution_count": 126,
   "id": "6e69be6f",
   "metadata": {
    "ExecuteTime": {
     "end_time": "2023-02-05T14:51:51.639012Z",
     "start_time": "2023-02-05T14:51:51.627045Z"
    },
    "pycharm": {
     "name": "#%%\n"
    }
   },
   "outputs": [
    {
     "data": {
      "text/plain": [
       "[1, 1, 0, 0, 0, 1, 1, 1, 0]"
      ]
     },
     "execution_count": 126,
     "metadata": {},
     "output_type": "execute_result"
    }
   ],
   "source": [
    "l2_gt_mean = [1 if x > l2_mean else 0 for x in l2]\n",
    "l2_gt_mean"
   ]
  },
  {
   "cell_type": "markdown",
   "id": "3079f1e6",
   "metadata": {},
   "source": [
    "Очікуваний результат: `[1, 1, 0, 0, 0, 1, 1, 1, 0]`"
   ]
  },
  {
   "cell_type": "markdown",
   "id": "bb70f24a",
   "metadata": {
    "pycharm": {
     "name": "#%% md\n"
    }
   },
   "source": [
    "# Ураа!! Ви завершили перше домашнє завдання!!!  \n",
    "Аби здати ДЗ - залийте ноутбук у гітхаб репозиторій, який ви створили у перші дні навчання на курсі, та додайте посилання на файл у відповідному завданні в Eduflow.\n",
    "Так тримати! 🚀🚀🚀"
   ]
  }
 ],
 "metadata": {
  "kernelspec": {
   "display_name": "Python 3 (ipykernel)",
   "language": "python",
   "name": "python3"
  },
  "language_info": {
   "codemirror_mode": {
    "name": "ipython",
    "version": 3
   },
   "file_extension": ".py",
   "mimetype": "text/x-python",
   "name": "python",
   "nbconvert_exporter": "python",
   "pygments_lexer": "ipython3",
   "version": "3.9.7"
  },
  "toc": {
   "base_numbering": 1,
   "nav_menu": {},
   "number_sections": true,
   "sideBar": true,
   "skip_h1_title": false,
   "title_cell": "Table of Contents",
   "title_sidebar": "Contents",
   "toc_cell": false,
   "toc_position": {},
   "toc_section_display": true,
   "toc_window_display": false
  }
 },
 "nbformat": 4,
 "nbformat_minor": 5
}
